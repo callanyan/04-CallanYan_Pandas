{
 "cells": [
  {
   "cell_type": "code",
   "execution_count": 4,
   "metadata": {},
   "outputs": [
    {
     "name": "stdout",
     "output_type": "stream",
     "text": [
      "110.2\n",
      "110.2\n",
      "27\n",
      "27\n"
     ]
    }
   ],
   "source": [
    "from statistics import mean, median, mode\n",
    "from matplotlib import pyplot\n",
    "import operator\n",
    "\n",
    "prices = [12, 27, 27, 35, 450]\n",
    "\n",
    "def average_of_numbers(list_l):\n",
    "   sum_of_numbers = 0\n",
    "   len_of_list = len(list_l)\n",
    "   for item in prices:\n",
    "       sum_of_numbers += item\n",
    "   aver_of_numbers = sum_of_numbers / len_of_list\n",
    "   return(aver_of_numbers)\n",
    "\n",
    "print(average_of_numbers(prices))\n",
    "print(mean(prices))\n",
    "\n",
    "def mode_of_numbers(list_l):\n",
    "   mode_dict = {}\n",
    "   for item in list_l:\n",
    "       if item in mode_dict:\n",
    "               mode_dict[item] += 1\n",
    "       else:\n",
    "               mode_dict[item] = 1\n",
    "\n",
    "   mode_count = max(mode_dict, key=mode_dict.get)\n",
    "   return(mode_count)\n",
    "\n",
    "print(mode_of_numbers(prices))\n",
    "print(mode(prices))"
   ]
  },
  {
   "cell_type": "code",
   "execution_count": null,
   "metadata": {},
   "outputs": [],
   "source": []
  }
 ],
 "metadata": {
  "kernelspec": {
   "display_name": "Python 3",
   "language": "python",
   "name": "python3"
  },
  "language_info": {
   "codemirror_mode": {
    "name": "ipython",
    "version": 3
   },
   "file_extension": ".py",
   "mimetype": "text/x-python",
   "name": "python",
   "nbconvert_exporter": "python",
   "pygments_lexer": "ipython3",
   "version": "3.7.0"
  }
 },
 "nbformat": 4,
 "nbformat_minor": 2
}
